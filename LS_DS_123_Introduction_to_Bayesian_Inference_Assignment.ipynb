{
  "nbformat": 4,
  "nbformat_minor": 0,
  "metadata": {
    "colab": {
      "name": "LS_DS_123_Introduction_to_Bayesian_Inference_Assignment.ipynb",
      "provenance": [],
      "collapsed_sections": [],
      "include_colab_link": true
    },
    "kernelspec": {
      "name": "python3",
      "display_name": "Python 3"
    }
  },
  "cells": [
    {
      "cell_type": "markdown",
      "metadata": {
        "id": "view-in-github",
        "colab_type": "text"
      },
      "source": [
        "<a href=\"https://colab.research.google.com/github/henryspg/DS-Unit-1-Sprint-2-Statistics/blob/master/LS_DS_123_Introduction_to_Bayesian_Inference_Assignment.ipynb\" target=\"_parent\"><img src=\"https://colab.research.google.com/assets/colab-badge.svg\" alt=\"Open In Colab\"/></a>"
      ]
    },
    {
      "cell_type": "markdown",
      "metadata": {
        "id": "H7OLbevlbd_Z",
        "colab_type": "text"
      },
      "source": [
        "# Lambda School Data Science Module 123\n",
        "\n",
        "## Introduction to Bayesian Inference\n",
        "\n",
        "\n"
      ]
    },
    {
      "cell_type": "markdown",
      "metadata": {
        "id": "P-DzzRk5bf0z",
        "colab_type": "text"
      },
      "source": [
        "## Assignment - Code it up!\n",
        "\n",
        "We used pure math to apply Bayes Theorem to drug tests. Now write Python code to reproduce the results! This is purposefully open ended - you'll have to think about how you should represent probabilities and events. You can and should look things up.\n",
        "\n",
        "Specific goals/targets:\n",
        "\n",
        "### 1) Write a function \n",
        "\n",
        "`def prob_drunk_given_positive(prob_drunk_prior, false_positive_rate, true_positive_rate):` \n",
        "\n",
        "You should only truly need these two values in order to apply Bayes Theorem. In this example, imagine that individuals are taking a breathalyzer test with an 8% false positive rate, a 100% true positive rate, and that our prior belief about drunk driving in the population is 1/1000. \n",
        " - What is the probability that a person is drunk after one positive breathalyzer test?\n",
        " - What is the probability that a person is drunk after two positive breathalyzer tests?\n",
        " - How many positive breathalyzer tests are needed in order to have a probability that's greater than 95% that a person is drunk beyond the legal limit?\n",
        "\n",
        "### 2) Explore `scipy.stats.bayes_mvs`  \n",
        "Read its documentation, and experiment with it on data you've tested in other ways earlier this week.\n",
        " - Create a visualization comparing the results of a Bayesian approach to a traditional/frequentist approach. (with a large sample size they should look close to identical, however, take this opportunity to practice visualizing condfidence intervals in general. The following are some potential ways that you could visualize confidence intervals on your graph:\n",
        "  - [Matplotlib Error Bars](https://matplotlib.org/3.1.1/api/_as_gen/matplotlib.pyplot.errorbar.html)\n",
        "  - [Seaborn barplot with error bars](https://seaborn.pydata.org/generated/seaborn.barplot.html)\n",
        "  - [Vertical ines to show bounds of confidence interval](https://www.simplypsychology.org/confidence-interval.jpg)\n",
        "  - [Confidence Intervals on Box Plots](https://matplotlib.org/3.1.1/api/_as_gen/matplotlib.axes.Axes.boxplot.html)\n",
        "\n",
        "### 3) In your own words, summarize the difference between Bayesian and Frequentist statistics\n",
        "\n",
        "If you're unsure where to start, check out [this blog post of Bayes theorem with Python](https://dataconomy.com/2015/02/introduction-to-bayes-theorem-with-python/).\n",
        "\n"
      ]
    },
    {
      "cell_type": "code",
      "metadata": {
        "id": "xpVhZyUnbf7o",
        "colab_type": "code",
        "colab": {}
      },
      "source": [
        "# TODO - code!"
      ],
      "execution_count": 0,
      "outputs": []
    },
    {
      "cell_type": "markdown",
      "metadata": {
        "id": "zY8u2qJQ-0MN",
        "colab_type": "text"
      },
      "source": [
        "**1) Write a function**"
      ]
    },
    {
      "cell_type": "code",
      "metadata": {
        "id": "XGm3wFhHmhED",
        "colab_type": "code",
        "colab": {
          "base_uri": "https://localhost:8080/",
          "height": 35
        },
        "outputId": "23603aec-8f19-4d5f-dc7b-0f5dee6b881d"
      },
      "source": [
        "# What is the probability that a person is drunk after one positive breathalyzer test?\n",
        "# prior prob\n",
        "p_drunk = 0.001\n",
        "\n",
        "# true drunk rate\n",
        "p_pos_drunk = 1\n",
        "# false positive rate\n",
        "p_pos_not_drunk = 0.08\n",
        "# complement prior\n",
        "p_not_drunk = 1 - p_drunk\n",
        "\n",
        "numerator = p_pos_drunk * p_drunk\n",
        "denominator = p_pos_drunk*p_drunk + p_pos_not_drunk*p_not_drunk\n",
        "P_posterior = numerator/denominator\n",
        "print(P_posterior)\n"
      ],
      "execution_count": 16,
      "outputs": [
        {
          "output_type": "stream",
          "text": [
            "0.012357884330202669\n"
          ],
          "name": "stdout"
        }
      ]
    },
    {
      "cell_type": "markdown",
      "metadata": {
        "id": "OJHRUdxCBNkz",
        "colab_type": "text"
      },
      "source": [
        "**Below is manual calculation (without function) for my own exercise**"
      ]
    },
    {
      "cell_type": "code",
      "metadata": {
        "id": "yqhsZXmds5BE",
        "colab_type": "code",
        "colab": {
          "base_uri": "https://localhost:8080/",
          "height": 35
        },
        "outputId": "2b875d93-0cfb-46be-e9b9-c2f163869390"
      },
      "source": [
        "# What is the probability that a person is drunk after two positive breathalyzer tests?\n",
        "\n",
        "# prior prob\n",
        "p_drunk = 0.012357884330202669\n",
        "\n",
        "# true drunk rate\n",
        "p_pos_drunk = 1\n",
        "# false positive rate\n",
        "p_pos_not_drunk = 0.08\n",
        "# complement prior\n",
        "p_not_drunk = 1 - p_drunk\n",
        "\n",
        "numerator = p_pos_drunk * p_drunk\n",
        "denominator = p_pos_drunk*p_drunk + p_pos_not_drunk*p_not_drunk\n",
        "P_posterior = numerator/denominator\n",
        "print(P_posterior)"
      ],
      "execution_count": 18,
      "outputs": [
        {
          "output_type": "stream",
          "text": [
            "0.13525210993291495\n"
          ],
          "name": "stdout"
        }
      ]
    },
    {
      "cell_type": "code",
      "metadata": {
        "id": "acVhOHudtjuq",
        "colab_type": "code",
        "colab": {
          "base_uri": "https://localhost:8080/",
          "height": 35
        },
        "outputId": "c476ee3e-d958-4183-f246-d6c334b0aeb6"
      },
      "source": [
        "# What is the probability that a person is drunk after 3 positive breathalyzer tests?\n",
        "\n",
        "# prior prob\n",
        "p_drunk = 0.13525210993291495\n",
        "\n",
        "# true drunk rate\n",
        "p_pos_drunk = 1\n",
        "# false positive rate\n",
        "p_pos_not_drunk = 0.08\n",
        "# complement prior\n",
        "p_not_drunk = 1 - p_drunk\n",
        "\n",
        "numerator = p_pos_drunk * p_drunk\n",
        "denominator = p_pos_drunk*p_drunk + p_pos_not_drunk*p_not_drunk\n",
        "P_posterior = numerator/denominator\n",
        "print(P_posterior)"
      ],
      "execution_count": 3,
      "outputs": [
        {
          "output_type": "stream",
          "text": [
            "0.6615996951348605\n"
          ],
          "name": "stdout"
        }
      ]
    },
    {
      "cell_type": "code",
      "metadata": {
        "id": "1GvA7Dl1tjx0",
        "colab_type": "code",
        "colab": {
          "base_uri": "https://localhost:8080/",
          "height": 35
        },
        "outputId": "60aeb799-a946-4d28-844b-8cb066abd583"
      },
      "source": [
        "# What is the probability that a person is drunk after 4 positive breathalyzer tests?\n",
        "# prior prob\n",
        "p_drunk = 0.6615996951348605\n",
        "\n",
        "# true drunk rate\n",
        "p_pos_drunk = 1\n",
        "# false positive rate\n",
        "p_pos_not_drunk = 0.08\n",
        "# complement prior\n",
        "p_not_drunk = 1 - p_drunk\n",
        "\n",
        "numerator = p_pos_drunk * p_drunk\n",
        "denominator = p_pos_drunk*p_drunk + p_pos_not_drunk*p_not_drunk\n",
        "P_posterior = numerator/denominator\n",
        "print(P_posterior)"
      ],
      "execution_count": 4,
      "outputs": [
        {
          "output_type": "stream",
          "text": [
            "0.9606895076105054\n"
          ],
          "name": "stdout"
        }
      ]
    },
    {
      "cell_type": "markdown",
      "metadata": {
        "id": "JfAMkdWcvn8u",
        "colab_type": "text"
      },
      "source": [
        "After 4 test, The result is >95%.  \n",
        "  \n",
        "We need 4 positive breathalyzer tests in order to have a probability that's greater than 95% that a person is drunk beyond the legal limit"
      ]
    },
    {
      "cell_type": "markdown",
      "metadata": {
        "id": "6c47iLUGBdX3",
        "colab_type": "text"
      },
      "source": [
        "**Below is is using function**"
      ]
    },
    {
      "cell_type": "code",
      "metadata": {
        "id": "6mcXjnGemZkW",
        "colab_type": "code",
        "colab": {
          "base_uri": "https://localhost:8080/",
          "height": 35
        },
        "outputId": "65bb44a5-9dab-435d-9fbd-ecf588d3c46a"
      },
      "source": [
        "# Using the fuction:\n",
        "\n",
        "def prob_drunk_given_positive(prob_drunk_prior, false_positive_rate, true_positive_rate):\n",
        "  p_drunk = prob_drunk_prior\n",
        "\n",
        "  probs = []\n",
        "\n",
        "  for i in range(1,8):\n",
        "    p_pos_drunk = true_positive_rate\n",
        "    p_pos_not_drunk = false_positive_rate\n",
        "    p_not_drunk = 1 - p_drunk\n",
        "    numerator = p_pos_drunk * p_drunk\n",
        "    denominator = p_pos_drunk*p_drunk + p_pos_not_drunk*p_not_drunk\n",
        "\n",
        "    P_posterior = numerator/denominator\n",
        "    p_drunk = P_posterior\n",
        "    probs.append(p_drunk)\n",
        "    # print(\"test number: \",i, \">> \",P_posterior)\n",
        "  return probs\n",
        "\n",
        "P_posterior = prob_drunk_given_positive(0.001,0.08,1)\n",
        "print(P_posterior)\n",
        "# print(\"Conclusion:  4 tests are needed to get probability > 95%\")"
      ],
      "execution_count": 64,
      "outputs": [
        {
          "output_type": "stream",
          "text": [
            "[0.012357884330202669, 0.13525210993291495, 0.6615996951348605, 0.9606895076105054, 0.9967371577896734, 0.9997381867081508, 0.9999790498904363]\n"
          ],
          "name": "stdout"
        }
      ]
    },
    {
      "cell_type": "code",
      "metadata": {
        "id": "gxhSoSJFB2rc",
        "colab_type": "code",
        "colab": {
          "base_uri": "https://localhost:8080/",
          "height": 265
        },
        "outputId": "9e14d66c-7ffe-436d-f7b3-b7b28d3f9c1c"
      },
      "source": [
        "import matplotlib.pyplot as plt\n",
        "plt.plot(P_posterior)\n",
        "plt.show()"
      ],
      "execution_count": 63,
      "outputs": [
        {
          "output_type": "display_data",
          "data": {
            "image/png": "[encoded data removed]",
            "text/plain": [
              "<Figure size 432x288 with 1 Axes>"
            ]
          },
          "metadata": {
            "tags": [],
            "needs_background": "light"
          }
        }
      ]
    },
    {
      "cell_type": "code",
      "metadata": {
        "id": "82hqlO4f0OLF",
        "colab_type": "code",
        "colab": {
          "base_uri": "https://localhost:8080/",
          "height": 158
        },
        "outputId": "4b83f45b-4b49-4fb1-9d4a-d07c0ab68b27"
      },
      "source": [
        "# Another way of showing probs.  in the form of 1 number. \n",
        "\n",
        "def prob_drunk_given_positive(prob_drunk_prior, false_positive_rate, true_positive_rate, nroftime):\n",
        "  p_drunk = prob_drunk_prior\n",
        "\n",
        "\n",
        "  for i in range(1,nroftime):\n",
        "    p_pos_drunk = true_positive_rate\n",
        "    p_pos_not_drunk = false_positive_rate\n",
        "    p_not_drunk = 1 - p_drunk\n",
        "    numerator = p_pos_drunk * p_drunk\n",
        "    denominator = p_pos_drunk*p_drunk + p_pos_not_drunk*p_not_drunk\n",
        "    \n",
        "    P_posterior = numerator/denominator\n",
        "    p_drunk = P_posterior\n",
        "    print(\"test number: \",i, \">> \",P_posterior)\n",
        "  return p_drunk\n",
        "\n",
        "P_posterior = prob_drunk_given_positive(0.001,0.08,1,7)\n",
        "print()\n",
        "print(\"Conclusion:  4 tests are needed to get probability > 95%\")"
      ],
      "execution_count": 57,
      "outputs": [
        {
          "output_type": "stream",
          "text": [
            "test number:  1 >>  0.012357884330202669\n",
            "test number:  2 >>  0.13525210993291495\n",
            "test number:  3 >>  0.6615996951348605\n",
            "test number:  4 >>  0.9606895076105054\n",
            "test number:  5 >>  0.9967371577896734\n",
            "test number:  6 >>  0.9997381867081508\n",
            "\n",
            "Conclusion:  4 tests are needed to get probability > 95%\n"
          ],
          "name": "stdout"
        }
      ]
    },
    {
      "cell_type": "code",
      "metadata": {
        "id": "EP81cgAnB2u0",
        "colab_type": "code",
        "colab": {}
      },
      "source": [
        ""
      ],
      "execution_count": 0,
      "outputs": []
    },
    {
      "cell_type": "markdown",
      "metadata": {
        "id": "9VKAcCIo-6-R",
        "colab_type": "text"
      },
      "source": [
        "**2) Explore scipy.stats.bayes_mvs**"
      ]
    },
    {
      "cell_type": "markdown",
      "metadata": {
        "id": "9l1mVp8r--IP",
        "colab_type": "text"
      },
      "source": [
        "https://docs.scipy.org/doc/scipy-0.16.0/reference/generated/scipy.stats.bayes_mvs.html  \n",
        "scipy.stats.bayes_mvs(arr, alpha) function computes mean, variance and standard deviation in the given Bayesian confidence interval.  \n",
        "Bayesian confidence intervals for the mean, var, and std."
      ]
    },
    {
      "cell_type": "code",
      "metadata": {
        "id": "19w0f6mb7oVI",
        "colab_type": "code",
        "colab": {}
      },
      "source": [
        "import pandas as pd\n",
        "import matplotlib.pyplot as plt\n",
        "import numpy as np\n",
        "\n",
        "# Get data from house-votes-84"
      ],
      "execution_count": 0,
      "outputs": []
    },
    {
      "cell_type": "code",
      "metadata": {
        "id": "mX_eAcww7oX2",
        "colab_type": "code",
        "colab": {
          "base_uri": "https://localhost:8080/",
          "height": 211
        },
        "outputId": "f7167135-aecb-448b-ac4a-bb347153e5d7"
      },
      "source": [
        "!wget https://archive.ics.uci.edu/ml/machine-learning-databases/voting-records/house-votes-84.data"
      ],
      "execution_count": 66,
      "outputs": [
        {
          "output_type": "stream",
          "text": [
            "--2020-05-14 02:09:04--  https://archive.ics.uci.edu/ml/machine-learning-databases/voting-records/house-votes-84.data\n",
            "Resolving archive.ics.uci.edu (archive.ics.uci.edu)... 128.195.10.252\n",
            "Connecting to archive.ics.uci.edu (archive.ics.uci.edu)|128.195.10.252|:443... connected.\n",
            "HTTP request sent, awaiting response... 200 OK\n",
            "Length: 18171 (18K) [application/x-httpd-php]\n",
            "Saving to: ‘house-votes-84.data’\n",
            "\n",
            "house-votes-84.data 100%[===================>]  17.75K  --.-KB/s    in 0.06s   \n",
            "\n",
            "2020-05-14 02:09:04 (278 KB/s) - ‘house-votes-84.data’ saved [18171/18171]\n",
            "\n"
          ],
          "name": "stdout"
        }
      ]
    },
    {
      "cell_type": "code",
      "metadata": {
        "id": "f23-Y3XV7oa3",
        "colab_type": "code",
        "colab": {
          "base_uri": "https://localhost:8080/",
          "height": 35
        },
        "outputId": "38c29e5a-cfe1-4f9e-ec4f-53bf3a017ca0"
      },
      "source": [
        "colom=['party', 'handicapped-infants', 'water-project', 'budget-resolution', 'physician-fee-freeze','el-salvador-aid', 'relig-grp-schools','anti-satellite-ban',\n",
        "                            'aid-to-nicaraguan-contras', 'mx-missile', 'immigration', 'synfuels','education-spending', 'right-to-sue', 'crime', 'duty-free', 'export-SA']\n",
        "\n",
        "df = pd.read_csv('house-votes-84.data', names = colom)\n",
        "df=df.replace({'y': 1, 'n': 0 , '?':np.NaN  })\n",
        "df.shape"
      ],
      "execution_count": 76,
      "outputs": [
        {
          "output_type": "execute_result",
          "data": {
            "text/plain": [
              "(435, 17)"
            ]
          },
          "metadata": {
            "tags": []
          },
          "execution_count": 76
        }
      ]
    },
    {
      "cell_type": "code",
      "metadata": {
        "id": "k0ksxlhF7od7",
        "colab_type": "code",
        "colab": {}
      },
      "source": [
        "##  dataframe for  both party:\n",
        "\n",
        "rep_withNaN = df[df['party']=='republican']\n",
        "dem_withNaN = df[df['party']=='democrat']"
      ],
      "execution_count": 0,
      "outputs": []
    },
    {
      "cell_type": "code",
      "metadata": {
        "id": "D7EpU6_K7ohg",
        "colab_type": "code",
        "colab": {}
      },
      "source": [
        "# To see the  stats, NaN must be dropped\n",
        "# check for immigration column\n",
        "\n",
        "house_im = df['immigration'].dropna()\n",
        "rep_im = rep_withNaN['immigration'].dropna()\n",
        "dem_im = dem_withNaN['immigration'].dropna()"
      ],
      "execution_count": 0,
      "outputs": []
    },
    {
      "cell_type": "code",
      "metadata": {
        "id": "o3ZxbAyE-C9S",
        "colab_type": "code",
        "colab": {
          "base_uri": "https://localhost:8080/",
          "height": 35
        },
        "outputId": "fc1702b8-22aa-412a-ac59-2197ba47de10"
      },
      "source": [
        "# Both party on Immigration\n",
        "\n",
        "len(house_im)"
      ],
      "execution_count": 88,
      "outputs": [
        {
          "output_type": "execute_result",
          "data": {
            "text/plain": [
              "428"
            ]
          },
          "metadata": {
            "tags": []
          },
          "execution_count": 88
        }
      ]
    },
    {
      "cell_type": "code",
      "metadata": {
        "id": "2HImEbu8_6q7",
        "colab_type": "code",
        "colab": {}
      },
      "source": [
        "# from scipy import stats\n",
        "\n",
        "# def confidence_interval(data, confidence=0.95):\n",
        "#   data = np.array(data)\n",
        "#   x_bar = np.mean(data)\n",
        "#   n = 427\n",
        "#   s = np.std(data, ddof=1)\n",
        "#   std_err = s / np.sqrt(n)\n",
        "#   t = stats.t.ppf((1 + confidence) / 2.0, n - 1)\n",
        "#   margin_of_error = t*std_err\n",
        "#   lower_bound = x_bar - margin_of_error\n",
        "#   upper_bound = x_bar + margin_of_error\n",
        "#   return (lower_bound, x_bar, upper_bound)"
      ],
      "execution_count": 0,
      "outputs": []
    },
    {
      "cell_type": "code",
      "metadata": {
        "id": "IDplLNNg_6uD",
        "colab_type": "code",
        "colab": {
          "base_uri": "https://localhost:8080/",
          "height": 35
        },
        "outputId": "e38fd17e-cb11-4653-f659-b18e01a031b1"
      },
      "source": [
        "frequentist = confidence_interval(house_im)\n",
        "frequentist"
      ],
      "execution_count": 110,
      "outputs": [
        {
          "output_type": "execute_result",
          "data": {
            "text/plain": [
              "(0.45705954454897885, 0.5046728971962616, 0.5522862498435444)"
            ]
          },
          "metadata": {
            "tags": []
          },
          "execution_count": 110
        }
      ]
    },
    {
      "cell_type": "code",
      "metadata": {
        "id": "-H1MZuEwDMEO",
        "colab_type": "code",
        "colab": {
          "base_uri": "https://localhost:8080/",
          "height": 267
        },
        "outputId": "1bbc841d-6717-4c26-f301-86d079027032"
      },
      "source": [
        "house_im.plot.density()\n",
        "plt.axvline(frequentist[0], color='red')\n",
        "plt.axvline(frequentist[1], color='blue')\n",
        "plt.axvline(frequentist[2], color='red')\n",
        "plt.show()"
      ],
      "execution_count": 111,
      "outputs": [
        {
          "output_type": "display_data",
          "data": {
            "image/png": "[encoded data removed]",
            "text/plain": [
              "<Figure size 432x288 with 1 Axes>"
            ]
          },
          "metadata": {
            "tags": [],
            "needs_background": "light"
          }
        }
      ]
    },
    {
      "cell_type": "code",
      "metadata": {
        "id": "jGFs0CvhFrAa",
        "colab_type": "code",
        "colab": {}
      },
      "source": [
        ""
      ],
      "execution_count": 0,
      "outputs": []
    },
    {
      "cell_type": "markdown",
      "metadata": {
        "id": "0OZ9Jkgf--xi",
        "colab_type": "text"
      },
      "source": [
        "**3) In your own words, summarize the difference between Bayesian and Frequentist statistics**"
      ]
    },
    {
      "cell_type": "markdown",
      "metadata": {
        "id": "zr2DSzD7_GFu",
        "colab_type": "text"
      },
      "source": [
        "Frequentist confidence intervals treat the parameter as fixed and the data as random.  The source data is fixed\n",
        "\n",
        "\n",
        "Bayesian: parameter's value is fixed but has been chosen from some probability distribution -- known as the prior probability distribution.  \n",
        "      Bayesian credibile intervals treat the parameter as random and the data as fixed and creates a distribution of reasonable values for the parameter, given the observed data. There is an \"iteration process\" to get the desired probability.  The value of the output becomes the input value."
      ]
    },
    {
      "cell_type": "markdown",
      "metadata": {
        "id": "uWgWjp3PQ3Sq",
        "colab_type": "text"
      },
      "source": [
        "## Resources"
      ]
    },
    {
      "cell_type": "markdown",
      "metadata": {
        "id": "QRgHqmYIQ9qn",
        "colab_type": "text"
      },
      "source": [
        "- [Worked example of Bayes rule calculation](https://en.wikipedia.org/wiki/Bayes'_theorem#Examples) (helpful as it fully breaks out the denominator)\n",
        "- [Source code for mvsdist in scipy](https://github.com/scipy/scipy/blob/90534919e139d2a81c24bf08341734ff41a3db12/scipy/stats/morestats.py#L139)"
      ]
    },
    {
      "cell_type": "markdown",
      "metadata": {
        "id": "GP7Jv1XvwtkX",
        "colab_type": "text"
      },
      "source": [
        "## Stretch Goals:\n",
        "\n",
        "- Go back and study the content from Modules 1 & 2 to make sure that you're really comfortable with them.\n",
        "- Apply a Bayesian technique to a problem you previously worked (in an assignment or project work) on from a frequentist (standard) perspective\n",
        "- Check out [PyMC3](https://docs.pymc.io/) (note this goes beyond hypothesis tests into modeling) - read the guides and work through some examples\n",
        "- Take PyMC3 further - see if you can build something with it!"
      ]
    },
    {
      "cell_type": "code",
      "metadata": {
        "id": "iDi0eFr1x-v_",
        "colab_type": "code",
        "colab": {}
      },
      "source": [
        ""
      ],
      "execution_count": 0,
      "outputs": []
    }
  ]
}