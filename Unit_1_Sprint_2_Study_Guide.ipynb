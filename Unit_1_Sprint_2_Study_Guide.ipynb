{
  "nbformat": 4,
  "nbformat_minor": 0,
  "metadata": {
    "colab": {
      "name": "Unit 1 Sprint 2 - Study Guide.ipynb",
      "provenance": [],
      "collapsed_sections": [],
      "include_colab_link": true
    },
    "kernelspec": {
      "name": "python3",
      "display_name": "Python 3"
    }
  },
  "cells": [
    {
      "cell_type": "markdown",
      "metadata": {
        "id": "view-in-github",
        "colab_type": "text"
      },
      "source": [
        "<a href=\"https://colab.research.google.com/github/henryspg/DS-Unit-1-Sprint-2-Statistics/blob/master/Unit_1_Sprint_2_Study_Guide.ipynb\" target=\"_parent\"><img src=\"https://colab.research.google.com/assets/colab-badge.svg\" alt=\"Open In Colab\"/></a>"
      ]
    },
    {
      "cell_type": "markdown",
      "metadata": {
        "id": "Nd2OOOVXxXS1",
        "colab_type": "text"
      },
      "source": [
        "This study guide should reinforce and provide practice for all of the concepts you have seen in Unit 1 Sprint 2. There are a mix of written questions and coding exercises, both are equally important to prepare you for the sprint challenge as well as to be able to speak on these topics comfortably in interviews and on the job.\n",
        "\n",
        "If you get stuck or are unsure of something remember the 20 minute rule. If that doesn't help, then research a solution with google and stackoverflow. Only once you have exausted these methods should you turn to your Team Lead - they won't be there on your SC or during an interview. That being said, don't hesitate to ask for help if you truly are stuck.\n",
        "\n",
        "Have fun studying!"
      ]
    },
    {
      "cell_type": "markdown",
      "metadata": {
        "id": "fpvInKdXekFi",
        "colab_type": "text"
      },
      "source": [
        "## Questions"
      ]
    },
    {
      "cell_type": "markdown",
      "metadata": {
        "id": "Q6bS8AhBZ86H",
        "colab_type": "text"
      },
      "source": [
        "When completing this section, try to limit your answers to 2-3 sentences max and use plain english as much as possible. It's very easy to hide incomplete knowledge and undertanding behind fancy or technical words, so imagine you are explaining these things to a non-technical interviewer.\n",
        "\n",
        "1. What is a CSV and how do you load it into a notebook?\n",
        "```\n",
        "Comma Seperated file. You load it by coding: df=pd.read_csv('filename.csv')\n",
        "```\n",
        "\n",
        "\n",
        "2. What is a NaN and what will you do with it?\n",
        "```\n",
        "\"Not a Number'. NaN should not be included in the calculation. \n",
        "to check #NaN per column: df.isna().sum()\n",
        "to check #NaN in df :     df.isna().sum().sum()\n",
        "to remove NaN per column: df['columnA'].dropna()\n",
        "```\n",
        "\n",
        "3. How do you check for datatypes?\n",
        "```\n",
        "df.dtypes  \n",
        "We will see the type either datatime, integer, floats, etc\n",
        "```\n",
        "\n",
        "4. What is Crosstabs and what are they used for?\n",
        "```\n",
        "Crosstab is  a method in Pandas to build a table summary. Just like groupby and pivot table. \n",
        "* dx2 = pd.crosstab(index=dx['time'], columns=dx['country'],  values=dx['cell_phones_total'], aggfunc='sum', margins = False,)\n",
        "\n",
        "```\n",
        "5. What is the difference between a T-Test and a P-Test?\n",
        "```\n",
        "t-test is used to compare the mean of two given samples. \n",
        "It assumes a normal distribution of the sample. \n",
        "It is used when the population parameters (mean and standard deviation) are not known.\n",
        "\n",
        "\n",
        "P-test is a statistical method that tests the validity of the null hypothesis    \n",
        "The smaller the p-value, the stronger the evidence that the null hypothesis should be rejected\n",
        "\n",
        "```"
      ]
    },
    {
      "cell_type": "markdown",
      "metadata": {
        "id": "sj5-1Nnkpej6",
        "colab_type": "text"
      },
      "source": [
        "### what to study. Use this section as a reasearch guide. There is nothing to answer here only keywords to help you seach for things and get you familiar with what to look for when researching. \n"
      ]
    },
    {
      "cell_type": "markdown",
      "metadata": {
        "id": "vz6CusBmpDgz",
        "colab_type": "text"
      },
      "source": [
        "Crosstab\n",
        "```\n",
        "```\n",
        "CSV\n",
        "```\n",
        "```\n",
        "T-Tests\n",
        "```\n",
        "```\n",
        "Datatypes\n",
        "```\n",
        "```\n",
        "Plots\n",
        "```\n",
        "```\n",
        "Analysis and Interpretation\n",
        "```\n"
      ]
    },
    {
      "cell_type": "markdown",
      "metadata": {
        "id": "dUQaIwbceohq",
        "colab_type": "text"
      },
      "source": [
        "## Practice Problems"
      ]
    },
    {
      "cell_type": "markdown",
      "metadata": {
        "id": "4jnYgnFjP6eE",
        "colab_type": "text"
      },
      "source": [
        "Load and validate a data set\n"
      ]
    },
    {
      "cell_type": "code",
      "metadata": {
        "id": "S9hFYrmqQlLA",
        "colab_type": "code",
        "colab": {}
      },
      "source": [
        "pd.read_csv('filename.csv')"
      ],
      "execution_count": 0,
      "outputs": []
    },
    {
      "cell_type": "markdown",
      "metadata": {
        "id": "bCbET5ioQlmQ",
        "colab_type": "text"
      },
      "source": [
        "Check for NaNs\n"
      ]
    },
    {
      "cell_type": "code",
      "metadata": {
        "id": "lwNwPn5nQowi",
        "colab_type": "code",
        "colab": {}
      },
      "source": [
        "df.isnull().sum()"
      ],
      "execution_count": 0,
      "outputs": []
    },
    {
      "cell_type": "markdown",
      "metadata": {
        "id": "2hq-PhcTQph7",
        "colab_type": "text"
      },
      "source": [
        "Check for Dtypes"
      ]
    },
    {
      "cell_type": "code",
      "metadata": {
        "id": "ZsWsuYwXRRP3",
        "colab_type": "code",
        "colab": {}
      },
      "source": [
        "df.dtypes"
      ],
      "execution_count": 0,
      "outputs": []
    },
    {
      "cell_type": "markdown",
      "metadata": {
        "id": "jVqQYLgxld7M",
        "colab_type": "text"
      },
      "source": [
        "create plots for explanitory visualizations"
      ]
    },
    {
      "cell_type": "code",
      "metadata": {
        "id": "ScovMuwvRdtq",
        "colab_type": "code",
        "colab": {}
      },
      "source": [
        "# plt.style.use('fivethirtyeight')\n",
        "# fig, ax = plt.subplots(figsize=(8, 5))\n",
        "# ax.plot(df['time'], df['population_total']) \n",
        "# plt.show()"
      ],
      "execution_count": 0,
      "outputs": []
    },
    {
      "cell_type": "markdown",
      "metadata": {
        "id": "uD5cTw9plh9c",
        "colab_type": "text"
      },
      "source": [
        "Create a crosstab"
      ]
    },
    {
      "cell_type": "code",
      "metadata": {
        "id": "XlazD59ClhXi",
        "colab_type": "code",
        "colab": {}
      },
      "source": [
        "dx2 = pd.crosstab(index=dx['time'], columns=dx['country'], values=dx['cell_phones_total'], aggfunc='sum', margins = False,)"
      ],
      "execution_count": 0,
      "outputs": []
    },
    {
      "cell_type": "markdown",
      "metadata": {
        "id": "JyThYBHGlm60",
        "colab_type": "text"
      },
      "source": [
        "Do Ttests on the data"
      ]
    },
    {
      "cell_type": "code",
      "metadata": {
        "id": "pr_vT8VSmK6J",
        "colab_type": "code",
        "colab": {}
      },
      "source": [
        "# stats.ttest_1samp(sample['column'], mean, nan_policy='omit')"
      ],
      "execution_count": 0,
      "outputs": []
    }
  ]
}